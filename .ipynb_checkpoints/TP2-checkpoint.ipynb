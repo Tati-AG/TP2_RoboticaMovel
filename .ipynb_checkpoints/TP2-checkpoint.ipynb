{
 "cells": [
  {
   "cell_type": "markdown",
   "id": "54f327c0-855d-464c-8826-5e2c039b8114",
   "metadata": {},
   "source": [
    "# 2º Trabalho Prático: Planejamento de Caminhos"
   ]
  },
  {
   "cell_type": "code",
   "execution_count": null,
   "id": "8d108a6c-602e-4373-8e81-ba941a7aab15",
   "metadata": {},
   "outputs": [],
   "source": []
  }
 ],
 "metadata": {
  "kernelspec": {
   "display_name": "Python 3 (ipykernel)",
   "language": "python",
   "name": "python3"
  },
  "language_info": {
   "codemirror_mode": {
    "name": "ipython",
    "version": 3
   },
   "file_extension": ".py",
   "mimetype": "text/x-python",
   "name": "python",
   "nbconvert_exporter": "python",
   "pygments_lexer": "ipython3",
   "version": "3.12.3"
  }
 },
 "nbformat": 4,
 "nbformat_minor": 5
}

{
 "cells": [
  {
   "cell_type": "markdown",
   "id": "54f327c0-855d-464c-8826-5e2c039b8114",
   "metadata": {},
   "source": [
    "# 2º Trabalho Prático: Planejamento de Caminhos"
   ]
  },
  {
   "cell_type": "markdown",
   "id": "f73f7dcb-ae5f-480d-8071-6626f525dfbb",
   "metadata": {},
   "source": [
    "## Introdução"
   ]
  },
  {
   "cell_type": "markdown",
   "id": "8387e80e-0f8d-480e-8ec2-f88cedb24c42",
   "metadata": {},
   "source": [
    "1. Objetivos do trabalho\n",
    "2. Detalhamento do problema\n",
    "3. Bibliotecas utilizadas\n",
    "4. Tecnicas utilizadas e suas diferenças"
   ]
  },
  {
   "cell_type": "markdown",
   "id": "9ca9fa95-de5e-4fda-9658-ccb8772be6df",
   "metadata": {
    "jp-MarkdownHeadingCollapsed": true
   },
   "source": [
    "#### Importação de Bibliotecas"
   ]
  },
  {
   "cell_type": "code",
   "execution_count": 6,
   "id": "6c0a4755-8c0d-42f8-bdbf-859fa0f59262",
   "metadata": {},
   "outputs": [],
   "source": [
    "from coppeliasim_zmqremoteapi_client import RemoteAPIClient\n",
    "import math\n",
    "import time\n",
    "import numpy as np\n",
    "import heapq\n",
    "import matplotlib.pyplot as plt"
   ]
  },
  {
   "cell_type": "markdown",
   "id": "aa3f226a-654b-4383-bc3d-a4283efc112a",
   "metadata": {
    "jp-MarkdownHeadingCollapsed": true
   },
   "source": [
    "#### Funções Compartilhadas"
   ]
  },
  {
   "cell_type": "code",
   "execution_count": null,
   "id": "bac5f49e-e68a-42ba-8cab-7f38681d1853",
   "metadata": {},
   "outputs": [],
   "source": [
    "# Normalize angle to the range [-pi,pi)\n",
    "def normalize_angle (angle):\n",
    "    \n",
    "    return np.mod (angle + np.pi, 2 * np.pi) - np.pi"
   ]
  },
  {
   "cell_type": "code",
   "execution_count": null,
   "id": "e43c1787-79ee-4f0e-95cc-2403a16aa12b",
   "metadata": {},
   "outputs": [],
   "source": [
    "def rotation_z (theta):\n",
    "    \n",
    "    return np.array ([[np.cos(theta), -np.sin(theta), 0],\n",
    "                      [np.sin(theta),  np.cos(theta), 0],\n",
    "                      [            0,              0, 1]])"
   ]
  },
  {
   "cell_type": "markdown",
   "id": "7da24155-de0e-42b0-a271-9fa438741004",
   "metadata": {},
   "source": [
    "## Planejamento de Caminhos com o Algoritmo Roadmap"
   ]
  },
  {
   "cell_type": "markdown",
   "id": "9e1f267d-4288-4996-add7-9b4587e62b7a",
   "metadata": {},
   "source": [
    "### Implementação"
   ]
  },
  {
   "cell_type": "markdown",
   "id": "b3fe515f-b1ca-4f4d-8fbf-60cc50ce414d",
   "metadata": {
    "jp-MarkdownHeadingCollapsed": true
   },
   "source": [
    "#### Funções Relativas a Leitura e Impressão de Imagens"
   ]
  },
  {
   "cell_type": "code",
   "execution_count": null,
   "id": "6a8f63a9-4f1a-4244-83a9-eb1cce4bfb5e",
   "metadata": {},
   "outputs": [],
   "source": [
    "def read_binary_image (image_address):\n",
    "    \n",
    "    image = mpimg.imread (image_address)\n",
    "    for row in range (len (image)):\n",
    "        for col in range (len (image[row])):\n",
    "            image[row][col] = 1 if image[row][col] < 1 else 0\n",
    "            \n",
    "    return image\n",
    "\n",
    "def print_world_grid (world_grid, img_id = \"\"):\n",
    "    \n",
    "    x_len = len (world_grid[0])\n",
    "    y_len = len (world_grid)\n",
    "    \n",
    "    figure = plt.figure (figsize = (10, 10 * y_len / x_len), dpi = 100)\n",
    "    ax = figure.add_subplot (111, aspect = 'equal')\n",
    "\n",
    "    ax.grid (which = 'major', axis = 'both', linestyle = '-', color = 'k', linewidth = .5)\n",
    "    ax.set_xticks (np.arange (0, x_len))\n",
    "    ax.set_yticks (np.arange (0, y_len))\n",
    "    \n",
    "    ax.imshow (1 - world_grid, cmap = 'Blues', extent = (0, x_len, 0, y_len), alpha = 0.6)\n",
    "    #plt.savefig(f\"world_{img_id}.png\")\n",
    "    #plt.close()"
   ]
  },
  {
   "cell_type": "markdown",
   "id": "a1a71713-95bc-42d5-adbe-d8e0cd5cdede",
   "metadata": {
    "jp-MarkdownHeadingCollapsed": true
   },
   "source": [
    "#### Classes de Dados"
   ]
  },
  {
   "cell_type": "markdown",
   "id": "78038715-6b02-4dda-b5cf-f902514d3ec1",
   "metadata": {},
   "source": [
    "1. Adaptação do código para discretizar o mundo\n",
    "2. Decisão de não utilizar um buffer\n",
    "3. Consequencias de não utilizar um buffer - Sem movimento diagonal\n",
    "4. Decisão de utilizar heuristica Manhattan distance\n",
    "5. Estrutura que permite a utilização como BFS"
   ]
  },
  {
   "cell_type": "code",
   "execution_count": null,
   "id": "366a5762-b9a4-4459-a2d4-d5471574bdec",
   "metadata": {},
   "outputs": [],
   "source": [
    "class World:\n",
    "    \n",
    "    def __init__ (self, image_address, real_dimensions):\n",
    "        self.image_address = image_address\n",
    "        self.world_matrix = read_binary_image (self.image_address)\n",
    "        self.real_dimensions = real_dimensions\n",
    "        self.scale = self.world_matrix.shape[:2] / self.real_dimensions\n",
    "        \n",
    "    def is_cell_area_free (self, row, col, cell_size):\n",
    "        area_size = cell_size * self.scale\n",
    "        \n",
    "        left = int (col * area_size[0])\n",
    "        right = int ((col + 1) * area_size[0])\n",
    "        top = int (row * area_size[1])\n",
    "        bottom = int ((row + 1) * area_size[1])\n",
    "        \n",
    "        return 1 if np.sum (self.world_matrix[top:bottom, left:right]) == 0 else 0\n",
    "        \n",
    "    def discretize_world (self, cell_size = 1):\n",
    "        num_rows, num_cols = (self.real_dimensions / cell_size).astype(int)\n",
    "        grid = np.zeros ((num_rows, num_cols))\n",
    "        \n",
    "        for row in range (num_rows):\n",
    "            for col in range (num_cols):\n",
    "                grid[row][col] = self.is_cell_area_free (row, col, cell_size)\n",
    "                \n",
    "        print_world_grid(grid)\n",
    "        return grid"
   ]
  },
  {
   "cell_type": "code",
   "execution_count": null,
   "id": "6397fcf2",
   "metadata": {},
   "outputs": [],
   "source": [
    "class Node:\n",
    "\n",
    "    def __init__ (self, grid_position, parent, current_cost):\n",
    "        self.grid_position = grid_position\n",
    "        self.parent = parent\n",
    "        self.current_cost = current_cost\n",
    "        self.priority_score = current_cost # Se a função calc_priority_score não é chamada, o algoritmo funciona como uma busca em largura (BFS)\n",
    "\n",
    "    def __lt__ (self, other):\n",
    "        return self.priority_score < other.priority_score\n",
    "\n",
    "    def manhattan_distance (self, goal_pos):\n",
    "        return abs (self.grid_position[0] - goal_pos[0]) + abs (self.grid_position[1] - goal_pos[1])\n",
    "        \n",
    "    def calc_priority_score (self, goal_pos):\n",
    "        self.heuristic_cost = self.manhattan_distance (goal_pos)\n",
    "        self.priority_score = self.current_cost + self.heuristic_cost"
   ]
  },
  {
   "cell_type": "markdown",
   "id": "44e52963-c926-4f43-a4ad-212f0e353c19",
   "metadata": {},
   "source": [
    "1. Decisão de criar classes e subclasses para os objetos contidos no coppelia\n",
    "2. Decisão de manter as funções de movimentação por caminho e calculos cinematicos dentro da classe CoppeliaRobot\n",
    "3. Dificuldades com o modelo cinematico inverso e com o youBot\n",
    "4. Decisão de manter o robo sempre seguindo em frente (sem deslocamento lateral) e realizando curvas somente nas viradas do caminho -> Inicialmente pensado para o youbot\n",
    "5. Decisão de aumentar a margem de erro -> dificuldades com o terreno "
   ]
  },
  {
   "cell_type": "code",
   "execution_count": null,
   "id": "a69cbdc8-9ff6-4dc0-95a7-33c9dd995146",
   "metadata": {},
   "outputs": [],
   "source": [
    "client = RemoteAPIClient()\n",
    "sim = client.require('sim')\n",
    "\n",
    "class CoppeliaObject:\n",
    "    \n",
    "    def __init__ (self, name):\n",
    "        self.name = name\n",
    "        self.handle = sim.getObject (name)\n",
    "        self.update_location ()\n",
    "        \n",
    "    def new_location (self, position, orientation):\n",
    "        sim.setObjectPosition (self.handle, position)\n",
    "        sim.setObjectOrientation (self.handle, orientation)\n",
    "        self.update_location ()\n",
    "        \n",
    "    def update_location (self):\n",
    "        self.global_position = sim.getObjectPosition (self.handle)\n",
    "        self.global_orientation = sim.getObjectOrientation (self.handle)\n",
    "\n",
    "class CoppeliaRobot (CoppeliaObject):\n",
    "    \n",
    "    def __init__ (self, name, radius, wheels, laser = None):\n",
    "        # wheel_joints recebe um vetor de objetos do tipo Coppelia_Wheel\n",
    "        self.radius = radius\n",
    "        self.wheels = wheels\n",
    "        self.laser = laser\n",
    "        CoppeliaObject.__init__ (self, name)\n",
    "\n",
    "    def calc_linear_velocity (self, position, orientation):\n",
    "        delta_pos = np.array (position) - np.array (self.global_position[:2])\n",
    "        delta_ori = orientation - self.global_orientation[2]\n",
    "        q_dot = np.array ((delta_pos[0], delta_pos[1], delta_ori))\n",
    "        return q_dot\n",
    "\n",
    "    def inverse_kinematics_omnidirectional (self, velocity, orientation):\n",
    "        direct_matrix = self.wheels[0].radius / 3 * np.array([[-np.sqrt(3),          0, np.sqrt(3)],\n",
    "                                                              [          1,         -2,          1],\n",
    "                                                              [      1 / L,      1 / L,      1 / L]])\n",
    "        inverse_matrix = np.linalg.inv (rotation_z (orientation) @ direct_matrix)\n",
    "        angular_velocity = inverse_matrix @ velocity\n",
    "        return angular_velocity\n",
    "\n",
    "    def follow_path (self, path):\n",
    "        for stop in path:\n",
    "            t = 0\n",
    "            last_time = time.time()\n",
    "            while np.linalg.norm (self.global_position[:2] - stop) > 0.1 and t < 5:\n",
    "                angle = np.arctan2 (stop[1], stop[0])\n",
    "                linear_velocity = self.calc_linear_velocity (stop, angle)\n",
    "                wheels_velocity = self.inverse_kinematics_omnidirectional (linear_velocity, angle)\n",
    "                for i in range (3):\n",
    "                    self.wheels[i].set_velocity (wheels_velocity[i])\n",
    "                self.update_location ()\n",
    "                t = t + time.time() - last_time\n",
    "                last_time = time.time()\n",
    "\n",
    "class CoppeliaWheel (CoppeliaObject):\n",
    "    \n",
    "    def __init__ (self, name, radius):\n",
    "        self.radius = radius\n",
    "        CoppeliaObject.__init__ (self, name)\n",
    "\n",
    "    def set_velocity (self, velocity):\n",
    "        sim.setJointTargetVelocity (self.handle, velocity)\n",
    "\n",
    "class CoppeliaLaser (CoppeliaObject):\n",
    "    \n",
    "    def __init__ (self, name, laser_range_data, laser_angle_data):\n",
    "        self.laser_range_data = laser_range_data\n",
    "        self.laser_angle_data = laser_angle_dataZ"
   ]
  },
  {
   "cell_type": "markdown",
   "id": "0e643352-71b8-458b-9a26-5da2cdd601f2",
   "metadata": {
    "jp-MarkdownHeadingCollapsed": true
   },
   "source": [
    "#### Funções Relativas a Busca de Caminhos com o Algoritmo A*"
   ]
  },
  {
   "cell_type": "markdown",
   "id": "bb9de196-f413-46fe-8e89-71c591ab39f8",
   "metadata": {},
   "source": [
    "1. Decisão de utilizar o algoritmo A*\n",
    "2. Decisão de não inicializar todas as celulas como vertices, gerando apenas os vertices encontrados pelo algoritmo A*\n",
    "3. Decisão de usar os valores 2 para explorada e 3 para caminho -> Melhor visualização e sem necessidade de uma matriz auxiliar\n",
    "4. Decisão de utilizar heapq -> Iterativo e já implementado em arvore - sem necessidade de implementar algoritmos de ordenação que não seriam otimos"
   ]
  },
  {
   "cell_type": "code",
   "execution_count": null,
   "id": "ce60e6c7-d6b4-4389-acdc-619eb01a45d8",
   "metadata": {},
   "outputs": [],
   "source": [
    "def is_cell_invalid (cell, world):\n",
    "    \n",
    "    if cell [0] < 0: return True\n",
    "    if cell [1] < 0: return True\n",
    "    if cell [0] >= len (world[0]): return True\n",
    "    if cell [1] >= len (world): return True\n",
    "        \n",
    "    return False\n",
    "\n",
    "def reconstruct_path_to (last_node, world):\n",
    "\n",
    "    path = [last_node.grid_position]\n",
    "    world[last_node.grid_position[1]][last_node.grid_position[0]] = 3\n",
    "    \n",
    "    while last_node.parent is not None:\n",
    "        path.append(last_node.parent.grid_position)\n",
    "        last_node = last_node.parent\n",
    "        world[last_node.grid_position[1]][last_node.grid_position[0]] = 3\n",
    "\n",
    "    return path, world\n",
    "\n",
    "def A_star (start, end, binary_world):\n",
    "\n",
    "    frontier = []\n",
    "    path = []\n",
    "    binary_world[start[1]][start[0]] = 1\n",
    "    heapq.heappush (frontier, Node (start, None, 0))\n",
    "\n",
    "    while len(frontier) > 0:\n",
    "        current_node = heapq.heappop(frontier)\n",
    "\n",
    "        if not (current_node.grid_position - end).any():\n",
    "            path, binary_world = reconstruct_path_to (current_node, binary_world)\n",
    "            break\n",
    "\n",
    "        for shift_one in [[0, 1], [0, -1], [1, 0], [-1, 0]]:\n",
    "            neighbor_position = (current_node.grid_position + shift_one).astype(int)\n",
    "            \n",
    "            if is_cell_invalid (neighbor_position, binary_world): continue\n",
    "            if binary_world[neighbor_position[1]][neighbor_position[0]] == 0: continue # 0 -> OBSTACULO\n",
    "            if binary_world[neighbor_position[1]][neighbor_position[0]] == 2: continue # 2 -> EXPLORADO\n",
    "            else: binary_world[neighbor_position[1]][neighbor_position[0]] = 2\n",
    "\n",
    "            neighbor = Node (neighbor_position, current_node, current_node.current_cost + 1)\n",
    "            neighbor.calc_priority_score (end)\n",
    "            heapq.heappush (frontier, neighbor)\n",
    "\n",
    "    \n",
    "    print_world_grid (binary_world)\n",
    "        \n",
    "    return path"
   ]
  },
  {
   "cell_type": "markdown",
   "id": "0867e7d0-5c73-4463-b204-1d1e6033f12f",
   "metadata": {},
   "source": [
    "![SegmentLocal](imagens/gif_a_star.gif \"segment\")"
   ]
  },
  {
   "cell_type": "markdown",
   "id": "91f3b6c5-09d3-42c0-b364-127a71591d1e",
   "metadata": {
    "jp-MarkdownHeadingCollapsed": true
   },
   "source": [
    "#### Funções Auxiliares de Transformação, Controle e Integração"
   ]
  },
  {
   "cell_type": "markdown",
   "id": "63db0c1e-0270-4f3a-ba35-5534a79d811c",
   "metadata": {},
   "source": [
    "1. Criação de funções de transformação de coordenadas -> Decisão de não manter o ponto de origem no centro do mapa para facilitar o acesso direto na matriz -> sem necessidade de calculos para saber se um ponto está ocupado, já foi explorado ou é valido\n",
    "2. Utilização de função auxiliar find_goal para facilitar a testagem do código e diminuir o tamanho e facilitar a reprodução dos testes"
   ]
  },
  {
   "cell_type": "code",
   "execution_count": null,
   "id": "f3bb9b68-3a34-4e9b-bae9-1a03cc0eb2d3",
   "metadata": {},
   "outputs": [],
   "source": [
    "# Move o ponto de origem do centro do mundo para o canto superior esquerdo da grade e encontra a celula correspondente\n",
    "def calc_grid_position (global_pos, cell_size, grid_size):\n",
    "\n",
    "    x_pos = np.floor (global_pos[0] / cell_size + grid_size[0] / 2)\n",
    "    y_pos = np.floor (-global_pos[1] / cell_size + grid_size[1] / 2)\n",
    "\n",
    "    return np.array ((x_pos, y_pos)).astype(int)\n",
    "\n",
    "def calc_map_position (grid_pos, cell_size, grid_size):\n",
    "\n",
    "    x_pos = (grid_pos[0] + 0.5 - grid_size[0] / 2) * cell_size\n",
    "    y_pos = -(grid_pos[1] + 0.5 - grid_size[1] / 2) * cell_size\n",
    "\n",
    "    return np.array ((x_pos, y_pos))\n",
    "\n",
    "def find_goal (robot, goal, world_map, cell_size):\n",
    "\n",
    "    robot_cell = calc_grid_position (robot.global_position, cell_size, [len (world_map[0]), len (world_map)])\n",
    "    goal_cell = calc_grid_position (goal.global_position, cell_size, [len (world_map[0]), len (world_map)])\n",
    "    \n",
    "    grid_path = A_star (robot_cell, goal_cell, world_map)\n",
    "\n",
    "    world_path = [calc_map_position (stop, cell_size, [len (world_map[0]), len (world_map)]) for stop in grid_path]\n",
    "    \n",
    "    robot.follow_path (np.flip (world_path, 0))"
   ]
  },
  {
   "cell_type": "markdown",
   "id": "9ddf777b-fcfc-42ef-b158-8fc4bb9425f9",
   "metadata": {},
   "source": [
    "### Testes e Análise de Resultados"
   ]
  },
  {
   "cell_type": "markdown",
   "id": "31abfa51-d173-4d5a-822b-1560df024a10",
   "metadata": {},
   "source": [
    "1. Necessidade de setar velocidade das rodas para 0 para evitar movimentos involuntarios desde o inicio da execução ate o primeiro comando de velocidade\n",
    "2. Restrições quanto ao tamanho da celula: Tamanho da celula deve ser um divisor comum das dimensões do mundo (para não causar divergencia da imagem projetada com as axes do grafico) e deve ser maior que o robô (0.27) (consequencia da ausencia de buffer)\n",
    "3. Dificuldades com a geração da imagem da caverna e em determinar a inclinação real do terreno devido a ausencia de um mapa com as paredes (tive que utilizar a imagem da textura, que não era confiavel quanto a margem real dos obstaculos)\n",
    "4. Criação de mapas separados para cada robo: Evitar colisões e interferencias"
   ]
  },
  {
   "cell_type": "markdown",
   "id": "e047f2f6-3d20-4c94-ad43-6f4286ee6510",
   "metadata": {},
   "source": [
    "Descrição do teste"
   ]
  },
  {
   "cell_type": "code",
   "execution_count": null,
   "id": "daa8e2de-0127-4278-b32d-b59840358dca",
   "metadata": {},
   "outputs": [],
   "source": [
    "sim.loadScene (\"C:/Users/tatia/Desktop/UFMG/RM/TP2/mapas/cave_robotino.ttt\")\n",
    "sim.startSimulation ()\n",
    "\n",
    "robotino = CoppeliaRobot (\"/robotino\", 0.135, [])\n",
    "\n",
    "robotino.wheels.append (CoppeliaWheel (\"/wheel0_joint\", 0.040))\n",
    "robotino.wheels.append (CoppeliaWheel (\"/wheel1_joint\", 0.040))\n",
    "robotino.wheels.append (CoppeliaWheel (\"/wheel2_joint\", 0.040))\n",
    "\n",
    "for i in range (3):\n",
    "    robotino.wheels[i].set_velocity (0)\n",
    "\n",
    "goal = CoppeliaObject (\"/Goal\")\n",
    "\n",
    "world = World (\"C:/Users/tatia/Desktop/UFMG/RM/TP2/mapas/imagens/cave.png\", np.array([40,40]))\n",
    "world_map = world.discretize_world (0.4)\n",
    "\n",
    "find_goal (robotino, goal, world_map, 0.4)\n",
    "\n",
    "sim.stopSimulation ()\n",
    "time.sleep (5)"
   ]
  },
  {
   "cell_type": "markdown",
   "id": "9e5dfc1e-db8c-445b-8a84-94fa93391b55",
   "metadata": {},
   "source": [
    "Analise de resultados"
   ]
  },
  {
   "cell_type": "markdown",
   "id": "0a5c5ca8-3933-421c-bed2-00430c598834",
   "metadata": {},
   "source": [
    "Descrição do teste"
   ]
  },
  {
   "cell_type": "code",
   "execution_count": null,
   "id": "29bb3d6c-3a55-4168-bff0-98853b253537",
   "metadata": {},
   "outputs": [],
   "source": [
    "sim.loadScene (\"C:/Users/tatia/Desktop/UFMG/RM/TP2/mapas/maze_robotino.ttt\")\n",
    "sim.startSimulation ()\n",
    "\n",
    "robotino = CoppeliaRobot (\"/robotino\", 0.135, [])\n",
    "\n",
    "robotino.wheels.append (CoppeliaWheel (\"/wheel0_joint\", 0.040))\n",
    "robotino.wheels.append (CoppeliaWheel (\"/wheel1_joint\", 0.040))\n",
    "robotino.wheels.append (CoppeliaWheel (\"/wheel2_joint\", 0.040))\n",
    "\n",
    "for i in range (3):\n",
    "    robotino.wheels[i].set_velocity (0)\n",
    "\n",
    "goal = CoppeliaObject (\"/Goal\")\n",
    "\n",
    "world = World (\"C:/Users/tatia/Desktop/UFMG/RM/TP2/mapas/imagens/maze.png\", np.array([20,20]))\n",
    "world_map = world.discretize_world (0.4) # Tamanho da celula deve ser um divisor comum das dimensões do mundo e deve ser maior que o robô (0.27)\n",
    "\n",
    "find_goal (robotino, goal, world_map, 0.4)\n",
    "\n",
    "sim.stopSimulation ()\n",
    "time.sleep (5)"
   ]
  },
  {
   "cell_type": "markdown",
   "id": "9fbe9393-fb44-4009-9e91-793d15eb1dce",
   "metadata": {},
   "source": [
    "Analise de resultados"
   ]
  },
  {
   "cell_type": "markdown",
   "id": "61e4161d-6616-4e10-b6bb-5c5246b34fda",
   "metadata": {},
   "source": [
    "## Planejamento de Caminhos com o Algoritmo de Campos Potênciais"
   ]
  },
  {
   "cell_type": "markdown",
   "id": "688eab64-782d-4127-a9a0-2194b3d922d3",
   "metadata": {},
   "source": [
    "#### Funções Campos Potenciais\n",
    "\n",
    "Neste trecho, foi-se definido as funções de atração e repulsão para locomoção do robô. Com efeito, elas se baseiam nas leituras de posição atual do robô, do goal e do obstáculo (obtida com o Laser). No caso, a força de atração é baseada na diferença entre a posição do \n",
    "goal e do robô, multiplicada por um ganho constante. Note que esta função é retorna um vetor. \n",
    "\n",
    "Por fim, a foça de repulsão atua com a posição atual do robô, posição do obstáculo, um fator R para distância máxima permitida e um ganho constante. Neste caso,ela é necessária para que se evite a colisão do robô e este consiga efetuar sua trajetória sem ficar preso. No caso, note que esta também retorna um vetor e é inversalmente proporcional com a distância entre o robô e o obstáculo, i.e., quanto mais próxima do obstáculo, maior deve ser."
   ]
  },
  {
   "cell_type": "code",
   "execution_count": null,
   "id": "d952e61d-83f6-49be-b1ab-cb61718cce61",
   "metadata": {},
   "outputs": [],
   "source": [
    "def att_force (robotPosition, goal, katt):\n",
    "    return katt * (goal - robotPosition)\n",
    "\n",
    "def rep_force(robotPosition, obs, R=5, krep=.1):\n",
    "    \n",
    "    # Obstáculo: (x, y, r)\n",
    "    v = robotPosition[0:2] - obs[0:2]\n",
    "    d1 = np.linalg.norm(v)\n",
    "    \n",
    "    rep = krep * (1/d1**2) * ((1/d1) - (1/R)) * (v/d1)    \n",
    "    \n",
    "    return rep"
   ]
  },
  {
   "cell_type": "markdown",
   "id": "892e5825-b145-4d40-bf9c-ea2c7371dc47",
   "metadata": {
    "jp-MarkdownHeadingCollapsed": true
   },
   "source": [
    "#### Função de leitura de Laser\n",
    "\n",
    "Esta é uma das principais funções para o funcionamento deste método. Funciona recebendo como parâmetros as informações necessárias do Laser, como seu nome e o que ele deve pegar e retorna um vetor com as informações de distância e ângulos captadas pelo Laser. No caso, a sua\n",
    "limitação se dá pelo fato de que o Laser não captura informações que estejam a mais de 5 metros de distância, por isso a anulação de valores\n",
    "com o valor 5 na função de repulsão. "
   ]
  },
  {
   "cell_type": "code",
   "execution_count": null,
   "id": "87f9e35e",
   "metadata": {},
   "outputs": [],
   "source": [
    "def read_sensor_data (range_data_signal_id = \"hokuyo_range_data\", angle_data_signal_id = \"hokuyo_angle_data\"):\n",
    "    \n",
    "    while sim.getStringSignal (range_data_signal_id) == None:\n",
    "        continue\n",
    "        \n",
    "    string_range_data = sim.getStringSignal (range_data_signal_id)\n",
    "    string_angle_data = sim.getStringSignal (angle_data_signal_id)\n",
    "\n",
    "    raw_range_data = sim.unpackFloatTable (string_range_data)\n",
    "    raw_angle_data = sim.unpackFloatTable (string_angle_data)\n",
    "\n",
    "    return np.array ([raw_angle_data, raw_range_data]).T"
   ]
  },
  {
   "cell_type": "markdown",
   "id": "8d344ce5-4408-447b-b691-08fadef1c599",
   "metadata": {
    "jp-MarkdownHeadingCollapsed": true
   },
   "source": [
    "#### Funções para o funcionamento do método.\n",
    "Primeiramente, definiu-se o caminho do robô, dos componentes e do Laser, para que se obtenha o Handle destes objetos. A partir daí, utilizando as funções de getObjectPosition e getObjectOrientation, obtivemos as posições iniciais do robô. A partir daí, fez-se o Path do Goal que é um referenceFrame obtido do Coppeliae obteve sua posição e orientação. Note que este é fixo durante todo código. Após isso, define-se cotas superiores de velocidade que o robô pode alcançar e realiza-se um laço de interação while que continua rodando até que a posição final do robô esteja com erro de 0.05 em relação ao Goal. Dentro desta interação, busca-se atualizar constantemente a posição do robô e sua orientação, para que se possa mudar o valor da força de atração entre o robô e o Goal a medida que este se aproxima do objetivo.\n",
    "    \n",
    "Dentro deste while, chama-se continuamente a função de leitura do laser baseada na posição atual do robô que retorna o vetor com valores de distância e ângulos. Para que se tenha um melhor controle sobre estes valores, realiza-se um outro laço de iteração para filtrar os valores que são menores que uma tolerância de 5, são removidos (pois retornariam valores espúrios e perderíamos memória calculando valores não válidos devido a distância). Daí, realizamos o cálculo da força de repulsão baseada nesses valores filtrados.\n",
    "    \n",
    "Por fim, realizamos os cálculos somando todas as forças de repulsão e definindo fx e fy como sendo o primeiro e o segundo valor (respectivamente) do vetor da soma da força de atração e todas as de repulsão. Fizemos isso para aplicar o controlador de Lucas-Orio, e a partir dos valores calculados de velocidade linear e ângular, aplicamos as restrições de velocidades máximas e mínimas permitidas, para que se tenha um limite para estas. Após isso, definimos as velocidades da roda do robô diferencial e ele continua andando até que esteja a uma distância menor que 0.05 do Goal\n",
    "    "
   ]
  },
  {
   "cell_type": "code",
   "execution_count": null,
   "id": "3100b237-1c26-44fd-b0e7-873a4dc71ef1",
   "metadata": {},
   "outputs": [],
   "source": [
    "sim.loadScene (\"C:/Users/tatia/Desktop/UFMG/RM/TP2/mapas/cave_pioneer.ttt\")\n",
    "sim.startSimulation ()\n",
    "\n",
    "robotname = './Pioneer_p3dx'\n",
    "robotname_R_Motor = './Pioneer_p3dx/Pioneer_p3dx_rightMotor'\n",
    "robotname_L_Motor = './Pioneer_p3dx/Pioneer_p3dx_leftMotor'\n",
    "laser_range_data = \"hokuyo_range_data\"\n",
    "laser_angle_data = \"hokuyo_angle_data\"\n",
    "\n",
    "robotHandle = sim.getObjectHandle(robotname)    \n",
    "\n",
    "robotLeftMotorHandle  = sim.getObjectHandle(robotname_L_Motor)\n",
    "robotRightMotorHandle = sim.getObjectHandle(robotname_R_Motor)\n",
    "\n",
    "robotPos = sim.getObjectPosition(robotHandle, sim.handle_world)\n",
    "robotOri = sim.getObjectOrientation(robotHandle, sim.handle_world)\n",
    "\n",
    "goalFrame = sim.getObjectHandle('./Goal')\n",
    "\n",
    "position_goal = sim.getObjectPosition(goalFrame, sim.handle_world)\n",
    "orientation_goal = sim.getObjectOrientation(goalFrame, sim.handle_world) \n",
    "\n",
    "sim.setObjectPosition(goalFrame, [position_goal[0], position_goal[1], 0], sim.handle_world)\n",
    "sim.setObjectOrientation(goalFrame, [orientation_goal[0], orientation_goal[1], orientation_goal[2]], sim.handle_world) \n",
    "\n",
    "L = 0.381\n",
    "r = 0.0975\n",
    "maxv = 1.5\n",
    "maxw = np.deg2rad(45)\n",
    "\n",
    "position_goal = sim.getObjectPosition(goalFrame, sim.handle_world)\n",
    "orientation_goal = sim.getObjectOrientation(goalFrame, sim.handle_world) \n",
    "\n",
    "rho = np.inf\n",
    "     \n",
    "while rho > .05:\n",
    "\n",
    "while True :\n",
    "        \n",
    "    while rho > .05:\n",
    "\n",
    "\n",
    "        robotPos = sim.getObjectPosition(robotHandle, sim.handle_world)\n",
    "        robotPos1 = np.array([robotPos[0], robotPos[1], robotPos[2]])\n",
    "        robotOri = sim.getObjectOrientation(robotHandle, sim.handle_world)        \n",
    "        robotConfig = np.array([robotPos[0], robotPos[1], robotOri[2]])        \n",
    "        laser_data = read_sensor_data(laser_range_data, laser_angle_data)\n",
    "\n",
    "        força_RepulsTot = [0,0]\n",
    "        força_AtracTot = att_force(robotPos1, position_goal, 0.03)\n",
    "        print(\"Força de atração: \", força_AtracTot)\n",
    "\n",
    "        for i in laser_data:\n",
    "\n",
    "            if i[0] < 5:\n",
    "                f2 = 0\n",
    "                d1 = i[0]  # Correção aqui\n",
    "                ang1 = i[1]  # Correção aqui\n",
    "                x = d1 * np.cos(ang1)\n",
    "                y = d1 * np.sin(ang1)\n",
    "                distLaser = np.array([x ,y, 0])\n",
    "                #print(\"CCCCCCCCCCCCCCCCCCCCCCC \",distLaser)\n",
    "                f2 = rep_force(robotConfig, distLaser, 5, 0.05)\n",
    "                #print(\"AAAAAAAAAAAAAAAAAAA\",f2)\n",
    "                força_RepulsTot += f2   \n",
    "\n",
    "\n",
    "        fx,fy = força_AtracTot[:2] - força_RepulsTot[:2]\n",
    "        dx1, dy1 = position_goal[:2] - robotConfig[:2]\n",
    "\n",
    "    dx1, dy1 = position_goal[:2] - robotConfig[:2]\n",
    "\n",
    "        kr = 1\n",
    "        kt = 2\n",
    "        print(\"Força de Repulsão \",força_RepulsTot)\n",
    "\n",
    "        print(\"Força de atração \", fx, \" Força de repulsão \", fy, \"\\n\")\n",
    "        v = kr*(fx*np.cos(robotOri[2]) + fy*np.sin(robotOri[2]))\n",
    "        w = kt*(np.arctan2(fy,fx) - robotConfig[2])\n",
    "                \n",
    "        # Limit v,w to +/- max\n",
    "        \n",
    "        print(\"Velocidade do robô \",v,\" velocidade angular do robot \", w, \"\\n\")\n",
    "        v = max(min(v,maxv), -maxv)\n",
    "        w = max(min(w,maxw), -maxw)\n",
    "\n",
    "        print(\"Velocidade do robô 2: \",v,\" velocidade angular do robot 2: \", w, \"\\n\")\n",
    "\n",
    "        vr = ((2.0*v) + (w*L))/(2.0*r)\n",
    "        vl = ((2.0*v) - (w*L))/(2.0*r)\n",
    "        \n",
    "        sim.setJointTargetVelocity(robotRightMotorHandle, vr)\n",
    "        sim.setJointTargetVelocity(robotLeftMotorHandle, vl)\n",
    "\n",
    "    print(\"Força de atração \", dx, \" Força de repulsão \", dy, \"\\n\")\n",
    "    v = kr*(dy*np.cos(robotConfig[2]) + dx*np.sin(robotConfig[2]))\n",
    "    w = kt*(np.arctan2(dy,dx) - robotConfig[2])\n",
    "            \n",
    "    # Limit v,w to +/- max\n",
    "    \n",
    "    print(\"Velocidade do robô \",v,\" velocidade angular do robot \", w, \"\\n\")\n",
    "    if v > 0 and v > maxv:\n",
    "        v = maxv\n",
    "    elif v < 0 and v < -maxv:\n",
    "        v = -maxv \n",
    "    if w > 0 and w > maxw:\n",
    "        w = maxw\n",
    "    elif w < 0 and w < -maxw:\n",
    "        w = -maxw       \n",
    "    print(\"Velocidade do robô 2: \",v,\" velocidade angular do robot 2: \", w, \"\\n\")\n",
    "\n",
    "    vr = ((2.0*v) + (w*L))/(2.0*r)\n",
    "    vl = ((2.0*v) - (w*L))/(2.0*r)\n",
    "    \n",
    "    sim.setJointTargetVelocity(robotRightMotorHandle, vr)\n",
    "    sim.setJointTargetVelocity(robotLeftMotorHandle, vl)\n",
    "\n",
    "sim.setJointTargetVelocity(robotRightMotorHandle, 0)\n",
    "sim.setJointTargetVelocity(robotLeftMotorHandle, 0)\n",
    "\n",
    "time.sleep (5)"
   ]
  },
  {
   "cell_type": "markdown",
   "id": "fe8f8197-e8c9-428b-a504-fa08ff4fb25a",
   "metadata": {},
   "source": [
    "## Conclusão"
   ]
  },
  {
   "cell_type": "markdown",
   "id": "b32538b8-97d4-4813-b4b4-8ab51bfca721",
   "metadata": {},
   "source": [
    "## Bibliografia"
   ]
  },
  {
   "cell_type": "code",
   "execution_count": null,
   "id": "339fc1bb-49b7-4ff9-939a-a06497aa7ba8",
   "metadata": {},
   "outputs": [],
   "source": []
  }
 ],
 "metadata": {
  "kernelspec": {
   "display_name": "Python 3 (ipykernel)",
   "language": "python",
   "name": "python3"
  },
  "language_info": {
   "codemirror_mode": {
    "name": "ipython",
    "version": 3
   },
   "file_extension": ".py",
   "mimetype": "text/x-python",
   "name": "python",
   "nbconvert_exporter": "python",
   "pygments_lexer": "ipython3",
   "version": "3.12.3"
  }
 },
 "nbformat": 4,
 "nbformat_minor": 5
}
